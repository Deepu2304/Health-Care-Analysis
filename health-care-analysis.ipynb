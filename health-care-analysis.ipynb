{
 "cells": [
  {
   "cell_type": "markdown",
   "id": "125f1d22",
   "metadata": {},
   "source": [
    "#  HEALTH CARE ANALYSIS"
   ]
  },
  {
   "cell_type": "code",
   "execution_count": null,
   "id": "3d2d6faf",
   "metadata": {},
   "outputs": [],
   "source": [
    "import pandas as pd\n",
    "import numpy as np\n",
    "import seaborn as sns\n",
    "import os\n",
    "%matplotlib inline\n",
    "\n",
    "import matplotlib.pyplot as plt\n",
    "import missingno as msno\n",
    "import plotly.express as px\n",
    "from sklearn.model_selection import cross_val_score\n",
    "from sklearn import metrics\n",
    "from scipy import stats\n",
    "from scipy.stats import norm, skew \n",
    "from sklearn.model_selection import train_test_split\n",
    "from sklearn.metrics import confusion_matrix, accuracy_score\n",
    "from sklearn.feature_selection import SelectFromModel\n",
    "from sklearn.base import BaseEstimator, TransformerMixin, ClassifierMixin, clone\n",
    "import optuna\n",
    "import xgboost as xgb\n",
    "from xgboost import XGBClassifier\n",
    "import catboost\n",
    "from catboost import CatBoostClassifier\n",
    "import lightgbm as lgbm\n",
    "from lightgbm import LGBMClassifier\n",
    "optuna.logging.set_verbosity(optuna.logging.WARNING)\n",
    "from lightgbm import *\n",
    "pd.set_option(\"display.max_columns\", None)\n",
    "\n",
    "import warnings\n",
    "warnings.filterwarnings('ignore')"
   ]
  },
  {
   "cell_type": "code",
   "execution_count": null,
   "id": "dfafab54",
   "metadata": {
    "scrolled": true
   },
   "outputs": [],
   "source": [
    "train = pd.read_csv('/Users/jaideepsai/Desktop/DATA-ANALYTICS/Data Source/extracted-data/Health Care/Thyroid_Diff.csv')\n",
    "display(train)"
   ]
  },
  {
   "cell_type": "code",
   "execution_count": null,
   "id": "52e0a6d2",
   "metadata": {
    "scrolled": false
   },
   "outputs": [],
   "source": [
    "cat_cols = list(train.drop(columns=['Recurred', 'Age'], axis=1).columns)\n",
    "\n",
    "# Set up subplots\n",
    "fig, axes = plt.subplots(nrows=5, ncols=3, figsize=(15, 32))\n",
    "plt.subplots_adjust(hspace=0.5)\n",
    "fig.suptitle('Bar plots of categorical variables', fontsize=18, y=0.95)\n",
    "\n",
    "for col, ax in zip(cat_cols, axes.flatten()):\n",
    "    bar_plot = sns.countplot(x=col, data=train, ax=ax)\n",
    "    \n",
    "    # Chart formatting\n",
    "    bar_plot.set_xticklabels(bar_plot.get_xticklabels(), rotation =45)\n",
    "    ax.set_title(col.upper())\n",
    "    ax.set_xlabel(\"\")\n",
    "    ax.set_ylabel(\"Count\")\n",
    "plt.show()"
   ]
  },
  {
   "cell_type": "markdown",
   "id": "8fb076a0",
   "metadata": {},
   "source": [
    "# EDA"
   ]
  },
  {
   "cell_type": "code",
   "execution_count": null,
   "id": "2293ac12",
   "metadata": {},
   "outputs": [],
   "source": [
    "print('train')\n",
    "display(train.isnull().sum())\n",
    "\n",
    "plt.figure(figsize = (4, 2))\n",
    "plt.title(\"Training Set\")\n",
    "sns.heatmap(train.isnull())\n",
    "plt.show()\n"
   ]
  },
  {
   "cell_type": "code",
   "execution_count": null,
   "id": "0b9f741c",
   "metadata": {},
   "outputs": [],
   "source": [
    "from sklearn.preprocessing import LabelEncoder\n",
    "le = LabelEncoder()\n",
    "train['Gender'] = le.fit_transform(train['Gender'])\n",
    "train['Smoking'] = le.fit_transform(train['Smoking'])\n",
    "train['Hx Smoking'] = le.fit_transform(train['Hx Smoking'])\n",
    "train['Hx Radiothreapy'] = le.fit_transform(train['Hx Radiothreapy'])\n",
    "train['Thyroid Function'] = le.fit_transform(train['Thyroid Function'])\n",
    "train['Physical Examination'] = le.fit_transform(train['Physical Examination'])\n",
    "train['Adenopathy'] = le.fit_transform(train['Adenopathy'])\n",
    "train['Pathology'] = le.fit_transform(train['Pathology'])\n",
    "train['Focality'] = le.fit_transform(train['Focality'])\n",
    "train['Risk'] = le.fit_transform(train['Risk'])\n",
    "train['T'] = le.fit_transform(train['T'])\n",
    "train['N'] = le.fit_transform(train['N'])\n",
    "train['M'] = le.fit_transform(train['M'])\n",
    "train['Stage'] = le.fit_transform(train['Stage'])\n",
    "train['Response'] = le.fit_transform(train['Response'])\n",
    "train['Recurred'] = le.fit_transform(train['Recurred'])\n",
    "display(train)"
   ]
  },
  {
   "cell_type": "code",
   "execution_count": null,
   "id": "f8d956a6",
   "metadata": {},
   "outputs": [],
   "source": [
    "sns.set_style(\"white\")\n",
    "sns.set_color_codes(palette='deep')\n",
    "f, ax = plt.subplots(figsize=(1, 3))\n",
    "sns.histplot(train['Recurred'])\n",
    "ax.xaxis.grid(False)\n",
    "\n",
    "sns.despine(trim=True, left=True)\n",
    "plt.show()\n",
    "\n",
    "print(\"Skewness: %f\" % train['Recurred'].skew())\n",
    "print(\"Kurtosis: %f\" % train['Recurred'].kurt())"
   ]
  },
  {
   "cell_type": "code",
   "execution_count": null,
   "id": "4d643f66",
   "metadata": {},
   "outputs": [],
   "source": [
    "X_data_feature= train.drop(columns=['Recurred'],axis=1)\n",
    "y_data_feature= train['Recurred']\n",
    "\n",
    "model = [CatBoostClassifier(logging_level='Silent')]\n",
    "\n",
    "model = [model[i].fit(X_data_feature,y_data_feature) for i in range(len(model))]\n",
    "\n",
    "num_chr = [12, 12, 10]\n",
    "\n",
    "for i in range(len(model)):\n",
    "    print(str(model[i])[:num_chr[i]] + ': \\n',\n",
    "          model[i].feature_importances_)\n",
    "    feat_importances = pd.Series(model[i].feature_importances_,\n",
    "                                 index=X_data_feature.columns)\n",
    "    feat_importances.nlargest(16).plot(kind='barh', color='green')\n",
    "    plt.xlim(0, 60)\n",
    "    plt.show()"
   ]
  },
  {
   "cell_type": "code",
   "execution_count": null,
   "id": "2782f627",
   "metadata": {
    "scrolled": false
   },
   "outputs": [],
   "source": [
    "model = [XGBClassifier()]\n",
    "\n",
    "model = [model[i].fit(X_data_feature,y_data_feature) for i in range(len(model))]\n",
    "\n",
    "num_chr = [12, 12, 10]\n",
    "\n",
    "for i in range(len(model)):\n",
    "    print(str(model[i])[:num_chr[i]] + ': \\n',\n",
    "          model[i].feature_importances_)\n",
    "    feat_importances = pd.Series(model[i].feature_importances_,\n",
    "                                 index=X_data_feature.columns)\n",
    "    feat_importances.nlargest(16).plot(kind='barh', color='royalblue')\n",
    "    plt.xlim(0, 0.6)\n",
    "    plt.show()"
   ]
  },
  {
   "cell_type": "code",
   "execution_count": null,
   "id": "0bca6766",
   "metadata": {},
   "outputs": [],
   "source": [
    "corr = train.corr(method='pearson')\n",
    "fig, ax = plt.subplots(figsize=(15, 15))\n",
    "sns.heatmap(corr, cmap='RdBu', annot=True, fmt=\".2f\")\n",
    "plt.xticks(range(len(corr.columns)), corr.columns);\n",
    "plt.yticks(range(len(corr.columns)), corr.columns)\n",
    "plt.show()"
   ]
  },
  {
   "cell_type": "code",
   "execution_count": null,
   "id": "0d957303",
   "metadata": {},
   "outputs": [],
   "source": [
    "X= train.drop(columns=['Recurred'],axis=1)\n",
    "y= train['Recurred']"
   ]
  },
  {
   "cell_type": "code",
   "execution_count": null,
   "id": "02d54ff8",
   "metadata": {},
   "outputs": [],
   "source": [
    "from sklearn.preprocessing import MinMaxScaler\n",
    "\n",
    "X_train=X\n",
    "y_train=y\n",
    "\n",
    "MinMaxScaler = MinMaxScaler()\n",
    "X_train = MinMaxScaler.fit_transform(X_train)\n",
    "X_train = pd.DataFrame(X_train)\n",
    "X_train"
   ]
  },
  {
   "cell_type": "code",
   "execution_count": null,
   "id": "d479c509",
   "metadata": {
    "scrolled": false
   },
   "outputs": [],
   "source": [
    "X_train, X_eval, y_train, y_eval = train_test_split(X_train, y_train,test_size=0.2,random_state=2019)\n",
    "print(\"Shape of X_train: \",X_train.shape)\n",
    "print(\"Shape of X_eval: \", X_eval.shape)\n",
    "print(\"Shape of y_train: \",y_train.shape)\n",
    "print(\"Shape of y_eval\",y_eval.shape)"
   ]
  },
  {
   "cell_type": "code",
   "execution_count": null,
   "id": "9a060269",
   "metadata": {},
   "outputs": [],
   "source": [
    "from sklearn.tree import DecisionTreeClassifier\n",
    "from sklearn.ensemble import RandomForestClassifier,ExtraTreesClassifier,BaggingClassifier\n",
    "from sklearn.ensemble import  AdaBoostClassifier\n",
    "from xgboost import XGBClassifier\n",
    "import lightgbm as lgb\n",
    "from lightgbm import LGBMClassifier\n",
    "from sklearn.ensemble import VotingClassifier\n",
    "\n",
    "clf1 = BaggingClassifier()\n",
    "clf2 = DecisionTreeClassifier()\n",
    "clf3 = ExtraTreesClassifier()\n",
    "clf4 = RandomForestClassifier()\n",
    "clf5 = XGBClassifier()\n",
    "clf6 = AdaBoostClassifier()\n"
   ]
  },
  {
   "cell_type": "code",
   "execution_count": null,
   "id": "ae0c987f",
   "metadata": {},
   "outputs": [],
   "source": [
    "clf1 = clf1.fit(X_train, y_train)\n",
    "clf2 = clf2.fit(X_train, y_train)\n",
    "clf3 = clf3.fit(X_train, y_train)\n",
    "clf4 = clf4.fit(X_train, y_train)\n",
    "clf5 = clf5.fit(X_train, y_train)\n",
    "clf6 = clf6.fit(X_train, y_train)\n",
    "\n",
    "eclf = VotingClassifier(estimators=[('BC', clf1), ('DT', clf2), ('ETSC', clf3), ('RTC', clf4),\n",
    "                                    ('XGB', clf5), ('ABC', clf6)],voting='hard')\n",
    "Voting_model = eclf.fit(X_train, y_train)\n",
    "\n",
    "y_pred_Voting = Voting_model.predict(X_eval) "
   ]
  },
  {
   "cell_type": "code",
   "execution_count": null,
   "id": "8921c39d",
   "metadata": {},
   "outputs": [],
   "source": [
    "Voting_acc = accuracy_score(y_eval, y_pred_Voting)\n",
    "print(\"Voting accuracy is: {0:.3f}%\".format(Voting_acc * 100))\n",
    "cm = confusion_matrix(y_eval, y_pred_Voting)\n",
    "plt.figure(figsize=(4, 4))\n",
    "sns.heatmap(cm, annot=True, fmt='.0f')\n",
    "plt.xlabel(\"Predicted Digits\")\n",
    "plt.ylabel(\"True Digits\")\n",
    "plt.show()"
   ]
  },
  {
   "cell_type": "code",
   "execution_count": null,
   "id": "675c145c",
   "metadata": {},
   "outputs": [],
   "source": []
  }
 ],
 "metadata": {
  "kernelspec": {
   "display_name": "Python 3 (ipykernel)",
   "language": "python",
   "name": "python3"
  },
  "language_info": {
   "codemirror_mode": {
    "name": "ipython",
    "version": 3
   },
   "file_extension": ".py",
   "mimetype": "text/x-python",
   "name": "python",
   "nbconvert_exporter": "python",
   "pygments_lexer": "ipython3",
   "version": "3.11.5"
  }
 },
 "nbformat": 4,
 "nbformat_minor": 5
}
